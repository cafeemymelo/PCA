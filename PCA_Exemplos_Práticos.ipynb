{
 "cells": [
  {
   "cell_type": "code",
   "execution_count": 3,
   "metadata": {},
   "outputs": [
    {
     "data": {
      "text/plain": [
       "(array([ 1.,  2.,  3.]), array([[ 1.,  0.,  0.],\n",
       "        [ 0.,  1.,  0.],\n",
       "        [ 0.,  0.,  1.]]))"
      ]
     },
     "execution_count": 3,
     "metadata": {},
     "output_type": "execute_result"
    }
   ],
   "source": [
    "import numpy as np\n",
    "from numpy import linalg as LA\n",
    "m = np.asmatrix([[2.5,0.5,2.2,1.9,3.1,2.3,2.0,1.0,1.5,1.1],[2.4,0.7,2.9,2.2,3.0,2.7,1.6,1.1,1.6,0.9]])\n",
    "w, v = LA.eig(np.diag((1, 2, 3)))\n",
    "w, v"
   ]
  },
  {
   "cell_type": "code",
   "execution_count": 2,
   "metadata": {},
   "outputs": [
    {
     "data": {
      "text/plain": [
       "array([ 1.,  2.,  3.])"
      ]
     },
     "execution_count": 2,
     "metadata": {},
     "output_type": "execute_result"
    }
   ],
   "source": [
    "w"
   ]
  },
  {
   "cell_type": "code",
   "execution_count": 10,
   "metadata": {},
   "outputs": [
    {
     "data": {
      "text/plain": [
       "array([[1., 0., 0.],\n",
       "       [0., 1., 0.],\n",
       "       [0., 0., 1.]])"
      ]
     },
     "execution_count": 10,
     "metadata": {},
     "output_type": "execute_result"
    }
   ],
   "source": [
    "v"
   ]
  },
  {
   "cell_type": "code",
   "execution_count": 11,
   "metadata": {},
   "outputs": [
    {
     "data": {
      "text/plain": [
       "array([[1, 0, 0],\n",
       "       [0, 2, 0],\n",
       "       [0, 0, 3]])"
      ]
     },
     "execution_count": 11,
     "metadata": {},
     "output_type": "execute_result"
    }
   ],
   "source": [
    "a = np.diag((1, 2, 3))\n",
    "a"
   ]
  },
  {
   "cell_type": "code",
   "execution_count": 14,
   "metadata": {
    "collapsed": true
   },
   "outputs": [],
   "source": [
    "type(m)\n",
    "a,b = LA.eig(m)"
   ]
  },
  {
   "cell_type": "code",
   "execution_count": 16,
   "metadata": {},
   "outputs": [
    {
     "data": {
      "text/plain": [
       "array([1.26032778, 0.03967222])"
      ]
     },
     "execution_count": 16,
     "metadata": {},
     "output_type": "execute_result"
    }
   ],
   "source": [
    "a"
   ]
  },
  {
   "cell_type": "code",
   "execution_count": 20,
   "metadata": {
    "collapsed": true
   },
   "outputs": [],
   "source": [
    "bInv = b.I"
   ]
  },
  {
   "cell_type": "code",
   "execution_count": 21,
   "metadata": {},
   "outputs": [
    {
     "data": {
      "text/plain": [
       "matrix([[ 0.88697868,  0.46181038],\n",
       "        [-0.46181038,  0.88697868]])"
      ]
     },
     "execution_count": 21,
     "metadata": {},
     "output_type": "execute_result"
    }
   ],
   "source": [
    "b"
   ]
  },
  {
   "cell_type": "code",
   "execution_count": 22,
   "metadata": {},
   "outputs": [
    {
     "data": {
      "text/plain": [
       "matrix([[ 0.88697868, -0.46181038],\n",
       "        [ 0.46181038,  0.88697868]])"
      ]
     },
     "execution_count": 22,
     "metadata": {},
     "output_type": "execute_result"
    }
   ],
   "source": [
    "bInv"
   ]
  },
  {
   "cell_type": "code",
   "execution_count": 23,
   "metadata": {},
   "outputs": [
    {
     "data": {
      "text/plain": [
       "matrix([[ 1.00000000e+00, -5.55111512e-17],\n",
       "        [ 0.00000000e+00,  1.00000000e+00]])"
      ]
     },
     "execution_count": 23,
     "metadata": {},
     "output_type": "execute_result"
    }
   ],
   "source": [
    "bInv*b"
   ]
  },
  {
   "cell_type": "code",
   "execution_count": 24,
   "metadata": {
    "collapsed": true
   },
   "outputs": [],
   "source": [
    "aMat = np.diag(a)"
   ]
  },
  {
   "cell_type": "code",
   "execution_count": 25,
   "metadata": {},
   "outputs": [
    {
     "data": {
      "text/plain": [
       "array([[1.26032778, 0.        ],\n",
       "       [0.        , 0.03967222]])"
      ]
     },
     "execution_count": 25,
     "metadata": {},
     "output_type": "execute_result"
    }
   ],
   "source": [
    "aMat"
   ]
  },
  {
   "cell_type": "code",
   "execution_count": 26,
   "metadata": {},
   "outputs": [
    {
     "data": {
      "text/plain": [
       "matrix([[ 1. , -0.5],\n",
       "        [-0.5,  0.3]])"
      ]
     },
     "execution_count": 26,
     "metadata": {},
     "output_type": "execute_result"
    }
   ],
   "source": [
    "b*aMat*bInv"
   ]
  },
  {
   "cell_type": "markdown",
   "metadata": {},
   "source": [
    "# Exemplo da Chinesa"
   ]
  },
  {
   "cell_type": "code",
   "execution_count": 67,
   "metadata": {},
   "outputs": [
    {
     "data": {
      "text/plain": [
       "(1.81, 1.91)"
      ]
     },
     "execution_count": 67,
     "metadata": {},
     "output_type": "execute_result"
    }
   ],
   "source": [
    "n=10\n",
    "m1 = m[0]\n",
    "m1M = round(m1.mean(),3)\n",
    "m2 = m[1]\n",
    "m2M = round(m2.mean(),3)\n",
    "m1M,m2M"
   ]
  },
  {
   "cell_type": "code",
   "execution_count": 68,
   "metadata": {},
   "outputs": [
    {
     "data": {
      "text/plain": [
       "matrix([[ 1.81,  1.81,  1.81,  1.81,  1.81,  1.81,  1.81,  1.81,  1.81,\n",
       "          1.81],\n",
       "        [ 1.91,  1.91,  1.91,  1.91,  1.91,  1.91,  1.91,  1.91,  1.91,\n",
       "          1.91]])"
      ]
     },
     "execution_count": 68,
     "metadata": {},
     "output_type": "execute_result"
    }
   ],
   "source": [
    "mBarra = np.asmatrix([[1.81,1.81,1.81,1.81,1.81,1.81,1.81,1.81,1.81,1.81],[1.91,1.91,1.91,1.91,1.91,1.91,1.91,1.91,1.91,1.91]])\n",
    "mBarra"
   ]
  },
  {
   "cell_type": "code",
   "execution_count": 69,
   "metadata": {},
   "outputs": [
    {
     "data": {
      "text/plain": [
       "matrix([[ 0.61655556,  0.61544444],\n",
       "        [ 0.61544444,  0.71655556]])"
      ]
     },
     "execution_count": 69,
     "metadata": {},
     "output_type": "execute_result"
    }
   ],
   "source": [
    "mSM = m-mBarra\n",
    "Covarrm = (mSM*mSM.transpose())/(n-1)\n",
    "Covarrm"
   ]
  },
  {
   "cell_type": "code",
   "execution_count": null,
   "metadata": {
    "collapsed": true
   },
   "outputs": [],
   "source": []
  },
  {
   "cell_type": "markdown",
   "metadata": {},
   "source": [
    "# Calculo da Matrix de Covariância - Exemplo"
   ]
  },
  {
   "cell_type": "markdown",
   "metadata": {},
   "source": [
    "Utilizaremos a Matriz **X$_{3x5}$** conforme descrita a seguir:"
   ]
  },
  {
   "cell_type": "code",
   "execution_count": 49,
   "metadata": {
    "collapsed": true
   },
   "outputs": [],
   "source": [
    "X = np.asmatrix([[4.0,2.0,0.6],[4.2,2.1,0.59],[3.9,2.0,0.58],[4.3,2.1,0.62],[4.1,2.2,0.63]])\n",
    "n = 5 # números de amostras"
   ]
  },
  {
   "cell_type": "markdown",
   "metadata": {},
   "source": [
    "Como se pode observar a Matrix *X* possui 5 linhas e 3 colunas onde cada linha representa uma amostra e cada coluna uma variável. Para o cálculo da matrix de Covariância  de **X** (**C$_{X}$**) temos que subutrair a média de cada variável de sua respectiva coluna, ou seja, temos que calcular $x-\\bar{x}$ para cada valor da coluna 1, 2, 3."
   ]
  },
  {
   "cell_type": "code",
   "execution_count": 50,
   "metadata": {
    "collapsed": true
   },
   "outputs": [],
   "source": [
    "x1 = X[:,0]# acesso a coluna 1\n",
    "x2 = X[:,1]#acesso a coluna 2\n",
    "x3 = X[:,2]#acesso a coluna 3\n",
    "x1M = float(\"{0:.2f}\".format(x1.mean())) #média de x1\n",
    "x2M = round(x2.mean(), 2) #média de x2\n",
    "x3M = float(\"{0:.3f}\".format(x3.mean())) #média de x3"
   ]
  },
  {
   "cell_type": "markdown",
   "metadata": {},
   "source": [
    "Para subtrairmos a média da matriz $X$ contruimos uma matriz com a médias no seguinte formato:<br>\n",
    "<center>$\\begin{bmatrix} 4.1 & 2.08 & 0.604 \\\\ 4.1 & 2.08 & 0.604 \\\\ 4.1 & 2.08 & 0.604 \\\\ 4.1 & 2.08 & 0.604 \\\\ 4.1 & 2.08 & 0.604 \\end{bmatrix}$<br>\n",
    "\n",
    "Assim podemos subtrair Matriz média $\\bar{X}$ da Matrix **$X$** gerando assim a Matriz **$X_{m}$** já com a média subtraída "
   ]
  },
  {
   "cell_type": "code",
   "execution_count": 51,
   "metadata": {
    "collapsed": true
   },
   "outputs": [],
   "source": [
    "#Gerando a Matrix Média\n",
    "Xbarra = np.asmatrix([[4.10,2.08,0.604],[4.10,2.08,0.604],[4.10,2.08,0.604],[4.10,2.08,0.604],[4.10,2.08,0.604]])\n",
    "#Subtraindo a matriz média(Xbarra) da matrix original (X)\n",
    "Xm = X-Xbarra"
   ]
  },
  {
   "cell_type": "markdown",
   "metadata": {},
   "source": [
    "Despois de Calculada a Matriz já subtraída a média, para encontrar a matriz de Covariância devemos calcular $\\frac{X_{m}*X_{m}^{T}}{n-1}$ isso se a sua matriz tiver as váriáves como linhas e amostras como colunas. No nosso caso a nossa matriz tem as variáveis como coluna e amostras como linhas, então a fórmula muda para $\\frac{X_{m}^{T}*X_{m}}{n-1}$, logo a matrix de $Covarr_{X}$ é :\n"
   ]
  },
  {
   "cell_type": "code",
   "execution_count": 52,
   "metadata": {},
   "outputs": [
    {
     "data": {
      "text/plain": [
       "matrix([[ 0.025  ,  0.0075 ,  0.00175],\n",
       "        [ 0.0075 ,  0.007  ,  0.00135],\n",
       "        [ 0.00175,  0.00135,  0.00043]])"
      ]
     },
     "execution_count": 52,
     "metadata": {},
     "output_type": "execute_result"
    }
   ],
   "source": [
    "CovarrX = (Xm.transpose()*Xm)/(n-1) # Cálculo da Matriz de Covariância de X"
   ]
  },
  {
   "cell_type": "code",
   "execution_count": null,
   "metadata": {
    "collapsed": true
   },
   "outputs": [],
   "source": []
  }
 ],
 "metadata": {
  "kernelspec": {
   "display_name": "Python 2",
   "language": "python",
   "name": "python2"
  },
  "language_info": {
   "codemirror_mode": {
    "name": "ipython",
    "version": 2
   },
   "file_extension": ".py",
   "mimetype": "text/x-python",
   "name": "python",
   "nbconvert_exporter": "python",
   "pygments_lexer": "ipython2",
   "version": "2.7.13"
  }
 },
 "nbformat": 4,
 "nbformat_minor": 2
}
